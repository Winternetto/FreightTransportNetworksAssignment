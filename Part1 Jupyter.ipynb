{
 "cells": [
  {
   "cell_type": "code",
   "execution_count": 2,
   "metadata": {},
   "outputs": [],
   "source": [
    "# CIE5830 Freight Transport Systems: Analysis and Modelling (2020/2021 Q3)\n",
    "# Assingment Part 1"
   ]
  },
  {
   "cell_type": "code",
   "execution_count": 1,
   "metadata": {},
   "outputs": [],
   "source": [
    "# ---- Import libraries ----\n",
    "# Openpyxl for reading the Excel file\n",
    "from openpyxl import * \n",
    "# Numpy for arrays\n",
    "import numpy as np\n",
    "# Math for taking the square root (sqrt)\n",
    "import math\n",
    "# Scipy for finding the global minimum (using dual annealing)\n",
    "from scipy import optimize"
   ]
  },
  {
   "cell_type": "code",
   "execution_count": 2,
   "metadata": {},
   "outputs": [],
   "source": [
    "# ---- Import data from Excel ----\n",
    "# Import the workbook\n",
    "wb = load_workbook(filename = 'Part1 data.xlsx') #CIE5830_AssignmentPart1\n",
    "\n",
    "# Import the worksheets\n",
    "wsRoadVol   = wb[\"RoadVol\"]\n",
    "wsRailVol   = wb[\"RailVol\"]\n",
    "wsTotalVol  = wb[\"TotalVol\"]\n",
    "wsRoadDist  = wb[\"RoadDist\"]\n",
    "wsRailDist  = wb[\"RailDist\"]\n",
    "\n",
    "# Load in the arrays\n",
    "Countries   = np.array([[i.value for i in j] for j in wsRoadVol['A2':'A10']])\n",
    "RoadVol     = np.array([[i.value for i in j] for j in wsRoadVol['B2':'J10']])\n",
    "RailVol     = np.array([[i.value for i in j] for j in wsRailVol['B2':'J10']])\n",
    "TotalVol    = np.array([[i.value for i in j] for j in wsTotalVol['B2':'J10']])\n",
    "RoadDist    = np.array([[i.value for i in j] for j in wsRoadDist['B2':'J10']])\n",
    "RailDist    = np.array([[i.value for i in j] for j in wsRailDist['B2':'J10']])"
   ]
  },
  {
   "cell_type": "code",
   "execution_count": 3,
   "metadata": {},
   "outputs": [],
   "source": [
    "# ---- Sets ----\n",
    "n = len(RoadVol)    # Number of countries\n",
    "N = range(n)        # Set of countries (from 0 to 8)"
   ]
  },
  {
   "cell_type": "code",
   "execution_count": 4,
   "metadata": {},
   "outputs": [
    {
     "ename": "SyntaxError",
     "evalue": "invalid syntax (602104467.py, line 3)",
     "output_type": "error",
     "traceback": [
      "\u001b[1;36m  Cell \u001b[1;32mIn[4], line 3\u001b[1;36m\u001b[0m\n\u001b[1;33m    RoadTariff  = ??    # Euro/km\u001b[0m\n\u001b[1;37m                  ^\u001b[0m\n\u001b[1;31mSyntaxError\u001b[0m\u001b[1;31m:\u001b[0m invalid syntax\n"
     ]
    }
   ],
   "source": [
    "# ---- Parameters ----\n",
    "# Performance parameters for transport modes\n",
    "RoadTariff  = ??    # Euro/km\n",
    "RailTariff  = ??    # Euro/km\n",
    "RoadSpeed   = ??    # km/h\n",
    "RailSpeed   = ??    # km/h\n",
    "\n",
    "# ---- Build cost and time matrices, based on performance parameters ----\n",
    "RoadTime    = ??    # hour\n",
    "RailTime    = ??    # hour\n",
    "RoadCosts   = ??    # Euro\n",
    "RailCosts   = ??    # Euro\n",
    "\n",
    "# ---- Build observed shares matrices, with 0.5 for intra-country ----\n",
    "# Create empty matrices\n",
    "Obs_Shares_Road = np.zeros((n,n))\n",
    "Obs_Shares_Rail = np.zeros((n,n))\n",
    "# Fill observed shares matrices\n",
    "for i in N:\n",
    "    for j in N:\n",
    "        # Intrazonal/intra-country gets modal split 50/50 %\n",
    "        if i == j:\n",
    "            Obs_Shares_Road[i,j] = 0.5\n",
    "            Obs_Shares_Rail[i,j] = 0.5\n",
    "        # Observed modal split from one country to another for all OD-pairs\n",
    "        if i != j:\n",
    "            Obs_Shares_Road[i,j] = ??\n",
    "            Obs_Shares_Rail[i,j] = ??\n",
    "\n",
    "# ---- Create empty systemic utility matrices we will fill later on ----\n",
    "# For road\n",
    "SystUtilRoad = np.zeros((n,n))\n",
    "# For rail\n",
    "SystUtilRail = np.zeros((n,n))"
   ]
  },
  {
   "cell_type": "code",
   "execution_count": null,
   "metadata": {},
   "outputs": [],
   "source": [
    "# ---- Define a function that using parameters estimated by the optimization \n",
    "# tool, will return a RSME value ----\n",
    "def Estimate(Parameters):\n",
    "    # All unknowns as parameters\n",
    "    Beta        = Parameters[0]\n",
    "    Mu          = Parameters[1]\n",
    "    RailASC_O   = Parameters[2:11]\n",
    "    RailASC_D   = Parameters[11:20]\n",
    "    \n",
    "    # With these (estimated) parameters, calculate the systematic utility for\n",
    "    # both modes, for all OD-pairs\n",
    "    for i in N:\n",
    "        for j in N:\n",
    "            # We take the systematic utility for intrazonal transport as 0, no\n",
    "            # matter the ASCs, this is done to get the modal split to 50/50 % \n",
    "            # for intrazonal transport\n",
    "            if i == j:\n",
    "                SystUtilRoad[i,j] = 0\n",
    "                SystUtilRail[i,j] = 0\n",
    "            # For non-intrazonal transport, the systematic utility per OD-pair\n",
    "            # for both road and rail\n",
    "            if i != j:\n",
    "                SystUtilRoad[i,j] = ??\n",
    "                SystUtilRail[i,j] = ??\n",
    "    \n",
    "    # If the denominator of the logit function is really small (0), \n",
    "    # return RMSE = 27.05 (which is too high to be a global minimum)\n",
    "    if 0 in (np.exp(-Mu*SystUtilRoad) + np.exp(-Mu*SystUtilRail)):\n",
    "        return 27.05 \n",
    "    \n",
    "    else:\n",
    "        # If the denominator of the logit function is all right, calculate the\n",
    "        # estimated share(s) of rail (and road)\n",
    "        Est_P_Rail = np.exp(??) / (np.exp(??) + np.exp(??))\n",
    "        # Est_P_Road = np.exp(-Mu*SystUtilRoad) / \\\n",
    "        #     (np.exp(-Mu*SystUtilRoad) + np.exp(-Mu*SystUtilRail))\n",
    "        \n",
    "        # Calculate the RMSE value, by comparing the observed shares for rail,\n",
    "        # with the estimated shares for rail, excluding the intrazonal values\n",
    "        # (including these would make for a better model fit then we have, as\n",
    "        # we set the intrazonal values to make the model work)\n",
    "        RMSE = math.sqrt((np.square \\\n",
    "                          (np.subtract(Obs_Shares_Rail, Est_P_Rail)).sum()) \\\n",
    "                          /(??))\n",
    "        \n",
    "        return RMSE"
   ]
  },
  {
   "cell_type": "code",
   "execution_count": null,
   "metadata": {},
   "outputs": [],
   "source": [
    "# Initialize the bounds for parameter estimation (first one is for\n",
    "# Parameters[0], so the Beta (or VoT). The second one is for Parameters[1],\n",
    "# so the mu. The rest is for the rail ASCs per country (Origin and destination\n",
    "# respectively)\n",
    "Bounds      = ((0,40),(0,1),(0,1000),(0,1000),(0,1000),(0,1000),(0,1000),\\\n",
    "                (0,1000),(0,1000),(0,1000),(0,1000),(0,1000),(0,1000),\\\n",
    "                    (0,1000),(0,1000),(0,1000),(0,1000),(0,1000),(0,1000),\\\n",
    "                        (0,1000))\n",
    "\n",
    "# Define a (callback) function that stops the algorithm from further improving\n",
    "# after a desired RSME value. Use RMSE < 0.02 to see if your model works, use\n",
    "# RMSE < 0.0001 for the final results to be used in your report\n",
    "def Callback(x, RMSE, context):\n",
    "    if RMSE < 0.02:\n",
    "        return True\n",
    "    else: return False"
   ]
  },
  {
   "cell_type": "code",
   "execution_count": null,
   "metadata": {},
   "outputs": [],
   "source": [
    "# Variable 'result' will store the estimates of parameters, and the RMSE-value\n",
    "# and other information produced (e.g. number of iterations). The seed is set\n",
    "# to compare your results when you change something in the code (it uses the\n",
    "# same random variables)\n",
    "result = optimize.dual_annealing(Estimate, bounds = Bounds, \\\n",
    "                                 callback = Callback, seed = 1991)\n",
    "\n",
    "# Write results to their individual variables \n",
    "Beta      = result.x[0]\n",
    "Mu        = result.x[1]\n",
    "RailASC_O = result.x[2:11]\n",
    "RailASC_D = result.x[11:20]"
   ]
  },
  {
   "cell_type": "code",
   "execution_count": null,
   "metadata": {},
   "outputs": [],
   "source": [
    "# ---- Results ----\n",
    "print('\\n----------------------------Results------------------------------\\n')\n",
    "\n",
    "print('RMSE = \\t\\t\\t\\t\\t\\t\\t\\t%.7f' %result.fun)\n",
    "print('Value of Time (VoT) = \\t\\t\\t\\t%.2f' %Beta)\n",
    "print('Mu = \\t\\t\\t\\t\\t\\t\\t\\t%.4f' %Mu)\n",
    "for i in N:\n",
    "    print('RailASC for', ''.join(Countries[i]), \\\n",
    "          'as origin is: \\t\\t%.2f' %RailASC_O[i])\n",
    "    print('RailASC for', ''.join(Countries[i]), \\\n",
    "          'as destination is: \\t%.2f' %RailASC_D[i])\n"
   ]
  }
 ],
 "metadata": {
  "kernelspec": {
   "display_name": "Python 3 (ipykernel)",
   "language": "python",
   "name": "python3"
  },
  "language_info": {
   "codemirror_mode": {
    "name": "ipython",
    "version": 3
   },
   "file_extension": ".py",
   "mimetype": "text/x-python",
   "name": "python",
   "nbconvert_exporter": "python",
   "pygments_lexer": "ipython3",
   "version": "3.9.7"
  }
 },
 "nbformat": 4,
 "nbformat_minor": 4
}
